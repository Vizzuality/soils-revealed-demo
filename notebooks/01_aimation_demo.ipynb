{
 "cells": [
  {
   "cell_type": "code",
   "execution_count": 2,
   "metadata": {},
   "outputs": [],
   "source": [
    "import sys\n",
    "\n",
    "import ee\n",
    "from ipywidgets import interact\n",
    "import matplotlib.pyplot as plt\n",
    "\n",
    "# Include local library paths \n",
    "sys.path.append(\"../soils_revealed/\")\n",
    "\n",
    "from maps import LeafletMap\n",
    "from data_params import GEEData\n",
    "from animations import Animation"
   ]
  },
  {
   "cell_type": "code",
   "execution_count": 3,
   "metadata": {},
   "outputs": [],
   "source": [
    "ee.Initialize()"
   ]
  },
  {
   "cell_type": "code",
   "execution_count": 9,
   "metadata": {},
   "outputs": [
    {
     "name": "stdout",
     "output_type": "stream",
     "text": [
      "Draw a rectangle on map to select and area.\n"
     ]
    },
    {
     "data": {
      "application/vnd.jupyter.widget-view+json": {
       "model_id": "85a30d98b24449d7813240db86a6d13e",
       "version_major": 2,
       "version_minor": 0
      },
      "text/plain": [
       "LeafletMap(center=[-4.656, -50.94], controls=(ZoomControl(options=['position', 'zoom_in_text', 'zoom_in_title'…"
      ]
     },
     "execution_count": 9,
     "metadata": {},
     "output_type": "execute_result"
    }
   ],
   "source": [
    "m = LeafletMap(center=[-4.656, -50.94], zoom=8)\n",
    "\n",
    "\n",
    "# Add layers\n",
    "soc_data = GEEData('SOC-Stock-Change')\n",
    "m.add_gee_layer(\n",
    "    image=soc_data.ee_image(),\n",
    "    sld_interval=soc_data.sld_interval(),\n",
    "    name=f'SOC Stock Change (2000 - 2018)'\n",
    ")\n",
    "\n",
    "glc_data = GEEData('Global-Land-Cover')\n",
    "for year in ['2000', '2018']:\n",
    "    m.add_gee_layer(\n",
    "        image=glc_data.ee_image(year=year),\n",
    "        sld_interval=glc_data.sld_interval(),\n",
    "        name=f'Global Land Cover ({year})'\n",
    "    )\n",
    "\n",
    "m"
   ]
  },
  {
   "cell_type": "code",
   "execution_count": 13,
   "metadata": {},
   "outputs": [],
   "source": [
    "animation = Animation(instrument='Sentinel')"
   ]
  },
  {
   "cell_type": "code",
   "execution_count": 18,
   "metadata": {},
   "outputs": [
    {
     "name": "stdout",
     "output_type": "stream",
     "text": [
      "Image number: 0\n",
      "Image number: 1\n",
      "Image number: 2\n",
      "Image number: 3\n",
      "Image number: 4\n",
      "Image number: 5\n",
      "Image number: 6\n"
     ]
    }
   ],
   "source": [
    "video = animation.video_as_array(geometry=m.geometry, start_year=2016, stop_year=2022)"
   ]
  },
  {
   "cell_type": "code",
   "execution_count": 19,
   "metadata": {},
   "outputs": [
    {
     "data": {
      "application/vnd.jupyter.widget-view+json": {
       "model_id": "4b8362dddaa141f2851cedc8fb19707c",
       "version_major": 2,
       "version_minor": 0
      },
      "text/plain": [
       "interactive(children=(IntSlider(value=0, description='frame', max=6), Output()), _dom_classes=('widget-interac…"
      ]
     },
     "metadata": {},
     "output_type": "display_data"
    }
   ],
   "source": [
    "@interact(frame=(0, video.shape[0]-1))\n",
    "def show_frame(frame=0):\n",
    "    fig, ax = plt.subplots(1, 1, figsize=(8,8))\n",
    "\n",
    "    ax.imshow(video[frame,:,:,:])\n",
    "    ax.axis('off')\n",
    "    ax.set_title('Sentinel')"
   ]
  }
 ],
 "metadata": {
  "kernelspec": {
   "display_name": "venv",
   "language": "python",
   "name": "python3"
  },
  "language_info": {
   "codemirror_mode": {
    "name": "ipython",
    "version": 3
   },
   "file_extension": ".py",
   "mimetype": "text/x-python",
   "name": "python",
   "nbconvert_exporter": "python",
   "pygments_lexer": "ipython3",
   "version": "3.11.4"
  },
  "orig_nbformat": 4
 },
 "nbformat": 4,
 "nbformat_minor": 2
}
